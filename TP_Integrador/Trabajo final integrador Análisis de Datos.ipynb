{
 "cells": [
  {
   "cell_type": "markdown",
   "id": "fdc15ea6",
   "metadata": {},
   "source": [
    "<header> Fernando Emir Garade <header>"
   ]
  },
  {
   "cell_type": "markdown",
   "id": "61b295f7",
   "metadata": {},
   "source": [
    "## Introducción\n",
    "\n",
    "Para la realización del trabajo integrador se utilizó un conjunto de datos relativos al estado del tiempo en distintas ciudades de Australia.\n",
    "\n",
    "El objetivo final es crear un modelo que permita predecir, a partir de información del día actual, si el día siguiente va a llover o no."
   ]
  },
  {
   "cell_type": "markdown",
   "id": "f7d60c7f",
   "metadata": {},
   "source": [
    "## Estructura del dataset\n",
    "\n",
    "El dataset está compuesto por 23 variables y 145460 registros. Una de estas variables es RainTomorrow y es la variable que tenemos intención de predecir a partir del resto de la información.\n",
    "\n",
    "En las 22 variables restantes tenemos datos acerca de la fecha, la ciudad, la humedad, la temperatura, la presión, direcciones y velocidades de vientos y ráfagas, cantidad de lluvia de ese día, nubosidad e información acerca de la evaporación y la luz solar para cada registro.\n"
   ]
  },
  {
   "cell_type": "markdown",
   "id": "6f7f4f29",
   "metadata": {},
   "source": [
    "## Características de las variables\n",
    "### Variables numéricas\n",
    "Algunas de las variables como MinTemp, MaxTemp, WindGustSpeed, WindSpeed3pm, Humidity9am, Humidity3pm, Pressure9am, Pressure3pm, Temp9am y Temp3pm tienen una distribución de valores que se asemejan a una distribución normal. Por supuesto, hay ciertas diferencias en el sesgo y apuntamiento respecto de una normal pero podemos decir que se asemejan bastante. \n",
    "\n",
    "Las demás variables tienen distribuciones más sesgadas y con distintos grados de apuntamiento. \n",
    "\n",
    "En general, las variables que miden una misma magnitud en distintos puntos del día se encuentran muy correlacionadas entre sí.\n",
    "\n",
    "### Variables categóricas\n",
    "\n",
    "Los valores que toman las variables categóricas tienen sentido y no hay grandes desbalances en cuanto a cantidad de registros para cada valor posible de cada variable, con excepción de la variable RainToday la cual se encuentra muy desbalanceada. Esta variable nos indica que solo el 28% de los registros están asociados a días de lluvia y el resto a días que no llovió."
   ]
  },
  {
   "cell_type": "markdown",
   "id": "5b226a00",
   "metadata": {},
   "source": [
    "## Esquema de validación de resultados\n",
    "\n",
    "En principio el dataset completo fue dividido en 22 columnas como variables predictoras (X) y una variable a predecir (y). Luego, cada uno de estos conjuntos se separó en grupos de entrenamiento y de testeo del 80% y 20% de los datos respectivamente.\n",
    "\n",
    "La variable objetivo RainTomorrow fue encodeada a un valor de 1 cuando el valor era 'Yes' y 0 cuando el valor era 'No'."
   ]
  },
  {
   "cell_type": "markdown",
   "id": "7b3df3c6",
   "metadata": {},
   "source": [
    "## Limpieza y preparación de datos\n",
    "\n",
    "### Valores faltantes\n",
    "Los registros con valores faltantes en la variable respuesta fueron eliminados porque de mantenerlos, no tendríamos cómo saber si la predicción para esos registros fue buena o mala.\n",
    "\n",
    "De las 23 columnas en el conjunto de variables predictoras, 22 tenían algún porcentaje de datos faltantes. \n",
    "\n",
    "Las variables más afectadas son Sunshine, Evaporation, Cloud3pm y Cloud9am cada una con más del 37% de datos faltantes. Se verificó que esta información faltante se explicaba por las ciudades de los registros, ya que existían ciudades con todos los datos faltantes para estas variables. Por esta razón y la gran cantidad que significaban, se decidió eliminar estas columnas y no considerarlas para el análisis.\n",
    "\n",
    "Se eliminaron los registros que contenían datos faltantes de variables que representaban menos del 5% del total de datos.\n",
    "\n",
    "Para las demás variables numéricas se imputó por la media para evitar la distorsión que pueda introducir la media (por valores outliers o por el sesgo).\n",
    "\n",
    "Para las variables categóricas se imputó por la moda o valor más frecuente.\n",
    "\n",
    "### Ingeniería de Features\n",
    "La variable Date la convertimos a tres variables numéricas Year, Month y Day para almacenar información relevante a estacionalidad. Particularmente habíamos notado que la mayor estacionalidad se daba de forma anual, coincidiendo con las distintas estaciones del año. \n",
    "\n",
    "Para las ciudades se decidió utilizar la técnica de OHE. Esta técnica es buena porque es sencilla de realizar y de interpretar, pero tiene la desventaja de generar muchas variables nuevas.\n",
    "\n",
    "Para las variables categóricas asociadas a la dirección de los vientos se decidió encodearlas a partir del ángulo al que corresponden en la rosa de los vientos.\n",
    "<center> <img src=\"wind_directions.png\" style=\"width: 200px;\" > <center>"
   ]
  },
  {
   "cell_type": "code",
   "execution_count": null,
   "id": "bdff58e9",
   "metadata": {},
   "outputs": [],
   "source": []
  }
 ],
 "metadata": {
  "kernelspec": {
   "display_name": "Python 3",
   "language": "python",
   "name": "python3"
  },
  "language_info": {
   "codemirror_mode": {
    "name": "ipython",
    "version": 3
   },
   "file_extension": ".py",
   "mimetype": "text/x-python",
   "name": "python",
   "nbconvert_exporter": "python",
   "pygments_lexer": "ipython3",
   "version": "3.8.10"
  }
 },
 "nbformat": 4,
 "nbformat_minor": 5
}
